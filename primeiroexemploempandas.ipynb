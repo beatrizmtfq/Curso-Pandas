{
  "nbformat": 4,
  "nbformat_minor": 0,
  "metadata": {
    "colab": {
      "provenance": [],
      "authorship_tag": "ABX9TyMT9AvjKFOweScqIa06kRQr"
    },
    "kernelspec": {
      "name": "python3",
      "display_name": "Python 3"
    },
    "language_info": {
      "name": "python"
    }
  },
  "cells": [
    {
      "cell_type": "markdown",
      "source": [
        "Primeiro exemplo de manipulação de dados usando Python Pandas.\n",
        "06/02/2023"
      ],
      "metadata": {
        "id": "wzMdSFMDUnl2"
      }
    },
    {
      "cell_type": "code",
      "execution_count": 1,
      "metadata": {
        "colab": {
          "base_uri": "https://localhost:8080/"
        },
        "id": "Y2tU10kYDQ7D",
        "outputId": "8afaba74-2cf7-46f8-9d09-cf06af8f3e6b"
      },
      "outputs": [
        {
          "output_type": "stream",
          "name": "stdout",
          "text": [
            "Alô mundo!\n"
          ]
        }
      ],
      "source": [
        "print(\"Alô mundo!\")"
      ]
    },
    {
      "cell_type": "code",
      "source": [
        "import pandas as pd"
      ],
      "metadata": {
        "id": "rWYdJO-UJp7h"
      },
      "execution_count": 4,
      "outputs": []
    },
    {
      "cell_type": "code",
      "source": [
        "combustiveis_df = pd.read_csv"
      ],
      "metadata": {
        "id": "0zDo6zlGWRSq"
      },
      "execution_count": null,
      "outputs": []
    }
  ]
}